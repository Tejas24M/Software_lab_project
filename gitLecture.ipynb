{
 "cells": [
  {
   "cell_type": "code",
   "execution_count": 1,
   "id": "40f74020-7003-4908-b7c8-e9d916f35f1f",
   "metadata": {},
   "outputs": [
    {
     "data": {
      "text/plain": [
       "'/Users/damani/cs699'"
      ]
     },
     "execution_count": 1,
     "metadata": {},
     "output_type": "execute_result"
    }
   ],
   "source": [
    "pwd"
   ]
  },
  {
   "cell_type": "code",
   "execution_count": 2,
   "id": "adb8108a-bd26-4762-ad70-970cd567e8c4",
   "metadata": {},
   "outputs": [
    {
     "ename": "SyntaxError",
     "evalue": "invalid syntax (2995531392.py, line 1)",
     "output_type": "error",
     "traceback": [
      "\u001b[0;36m  Cell \u001b[0;32mIn[2], line 1\u001b[0;36m\u001b[0m\n\u001b[0;31m    which git\u001b[0m\n\u001b[0m          ^\u001b[0m\n\u001b[0;31mSyntaxError\u001b[0m\u001b[0;31m:\u001b[0m invalid syntax\n"
     ]
    }
   ],
   "source": [
    "which git"
   ]
  },
  {
   "cell_type": "code",
   "execution_count": 3,
   "id": "faae706d-577a-4bd5-93df-b01b3d123f4f",
   "metadata": {},
   "outputs": [
    {
     "name": "stdout",
     "output_type": "stream",
     "text": [
      "/usr/bin/git\n"
     ]
    }
   ],
   "source": [
    "!which git"
   ]
  },
  {
   "cell_type": "code",
   "execution_count": 4,
   "id": "d77110e0-80ce-488d-85f5-6bbf1934c099",
   "metadata": {},
   "outputs": [
    {
     "name": "stdout",
     "output_type": "stream",
     "text": [
      "git version 2.39.3 (Apple Git-146)\n"
     ]
    }
   ],
   "source": [
    "!git --version"
   ]
  },
  {
   "cell_type": "code",
   "execution_count": 5,
   "id": "81ae9d7f-66eb-47e6-b43d-5e1a3176ef00",
   "metadata": {},
   "outputs": [],
   "source": [
    "# set your username and email for git\n",
    "!git config --global user.name \"damani\"\n",
    "!git config --global user.email \"damani@cse.iitb.ac.in\""
   ]
  },
  {
   "cell_type": "code",
   "execution_count": 6,
   "id": "e48ea272-556e-40bd-94b3-a966e920b6b5",
   "metadata": {},
   "outputs": [],
   "source": [
    "!mkdir testgit"
   ]
  },
  {
   "cell_type": "code",
   "execution_count": 9,
   "id": "b5f9db58-87fb-4f8b-8559-11c9efcba2ce",
   "metadata": {},
   "outputs": [],
   "source": [
    "!cd testgit"
   ]
  },
  {
   "cell_type": "code",
   "execution_count": 10,
   "id": "30959ec4-fccc-43ab-bbd0-9349b81c8e45",
   "metadata": {},
   "outputs": [
    {
     "data": {
      "text/plain": [
       "'/Users/damani/cs699'"
      ]
     },
     "execution_count": 10,
     "metadata": {},
     "output_type": "execute_result"
    }
   ],
   "source": [
    "pwd"
   ]
  },
  {
   "cell_type": "code",
   "execution_count": null,
   "id": "df0fbf6e-f4b1-416f-b12f-6f073a6109e7",
   "metadata": {},
   "outputs": [],
   "source": [
    "!ls testgit"
   ]
  },
  {
   "cell_type": "code",
   "execution_count": 11,
   "id": "cc7ce7d2-b134-49d5-87b5-c0e2bbaa53ea",
   "metadata": {},
   "outputs": [
    {
     "name": "stdout",
     "output_type": "stream",
     "text": [
      "/Users/damani/cs699/testgit\n"
     ]
    }
   ],
   "source": [
    "cd testgit"
   ]
  },
  {
   "cell_type": "code",
   "execution_count": 12,
   "id": "c3125a7f-e56d-41b8-9da8-5e1ba35536db",
   "metadata": {},
   "outputs": [
    {
     "data": {
      "text/plain": [
       "'/Users/damani/cs699/testgit'"
      ]
     },
     "execution_count": 12,
     "metadata": {},
     "output_type": "execute_result"
    }
   ],
   "source": [
    "pwd"
   ]
  },
  {
   "cell_type": "code",
   "execution_count": 13,
   "id": "d3336c65-d58b-4786-bbcb-716b8414c432",
   "metadata": {},
   "outputs": [
    {
     "name": "stdout",
     "output_type": "stream",
     "text": [
      "Initialized empty Git repository in /Users/damani/cs699/testgit/.git/\n"
     ]
    }
   ],
   "source": [
    "!git init"
   ]
  },
  {
   "cell_type": "code",
   "execution_count": 14,
   "id": "b275b52b-12ff-4b0a-9e4d-ac4037c72227",
   "metadata": {},
   "outputs": [],
   "source": [
    "!touch index.html"
   ]
  },
  {
   "cell_type": "code",
   "execution_count": 16,
   "id": "14bd9942-4d60-4a45-a3d6-cb85c56487eb",
   "metadata": {},
   "outputs": [
    {
     "name": "stdout",
     "output_type": "stream",
     "text": [
      "On branch main\n",
      "\n",
      "No commits yet\n",
      "\n",
      "Untracked files:\n",
      "  (use \"git add <file>...\" to include in what will be committed)\n",
      "\t\u001b[31mindex.html\u001b[m\n",
      "\n",
      "nothing added to commit but untracked files present (use \"git add\" to track)\n"
     ]
    }
   ],
   "source": [
    "!git status"
   ]
  },
  {
   "cell_type": "code",
   "execution_count": 19,
   "id": "8dedec91-8ad2-482c-84aa-e54c54076099",
   "metadata": {},
   "outputs": [
    {
     "name": "stdout",
     "output_type": "stream",
     "text": [
      "On branch main\n",
      "\n",
      "No commits yet\n",
      "\n",
      "Changes to be committed:\n",
      "  (use \"git rm --cached <file>...\" to unstage)\n",
      "\t\u001b[32mnew file:   index.html\u001b[m\n",
      "\n"
     ]
    }
   ],
   "source": [
    "!git add index.html;"
   ]
  },
  {
   "cell_type": "code",
   "execution_count": 20,
   "id": "84279c7a-a1e8-4b98-aee7-c3410ff88d15",
   "metadata": {},
   "outputs": [],
   "source": [
    "!touch README.md"
   ]
  },
  {
   "cell_type": "code",
   "execution_count": 21,
   "id": "3ce4e74f-18cf-455a-9666-917f2a17d222",
   "metadata": {},
   "outputs": [],
   "source": [
    "!touch bluestyle.css"
   ]
  },
  {
   "cell_type": "code",
   "execution_count": 23,
   "id": "9e128d07-ed92-4d69-bcdd-b671ddb247c9",
   "metadata": {},
   "outputs": [],
   "source": [
    "!git add --all"
   ]
  },
  {
   "cell_type": "code",
   "execution_count": 24,
   "id": "9fe0ff41-e206-43e8-a2e4-90a7b56537d0",
   "metadata": {},
   "outputs": [
    {
     "name": "stdout",
     "output_type": "stream",
     "text": [
      "On branch main\n",
      "\n",
      "No commits yet\n",
      "\n",
      "Changes to be committed:\n",
      "  (use \"git rm --cached <file>...\" to unstage)\n",
      "\t\u001b[32mnew file:   README.md\u001b[m\n",
      "\t\u001b[32mnew file:   bluestyle.css\u001b[m\n",
      "\t\u001b[32mnew file:   index.html\u001b[m\n",
      "\n"
     ]
    }
   ],
   "source": [
    "!git status"
   ]
  },
  {
   "cell_type": "code",
   "execution_count": 26,
   "id": "e7250037-b38b-4bf9-a845-6e7721755346",
   "metadata": {},
   "outputs": [
    {
     "name": "stdout",
     "output_type": "stream",
     "text": [
      "[main (root-commit) 3090fe2] 1st release\n",
      " 3 files changed, 8 insertions(+)\n",
      " create mode 100644 README.md\n",
      " create mode 100644 bluestyle.css\n",
      " create mode 100644 index.html\n"
     ]
    }
   ],
   "source": [
    "!git commit -m \"1st release\""
   ]
  },
  {
   "cell_type": "code",
   "execution_count": 27,
   "id": "da93e26f-30ea-46be-a3ee-5107d1a3e005",
   "metadata": {},
   "outputs": [],
   "source": [
    "!echo \"abc\" >> index.html"
   ]
  },
  {
   "cell_type": "code",
   "execution_count": null,
   "id": "ec5f0c4f-9972-4f78-8905-053d730e04e7",
   "metadata": {},
   "outputs": [],
   "source": [
    "!git status"
   ]
  },
  {
   "attachments": {
    "10818b1f-1736-440b-88b7-5e65e4932d1e.png": {
     "image/png": "[encoded data removed]"
    }
   },
   "cell_type": "markdown",
   "id": "910950f0-cbba-4fb1-84b4-63e21861629d",
   "metadata": {},
   "source": [
    "![image.png](attachment:10818b1f-1736-440b-88b7-5e65e4932d1e.png)\n",
    "\n",
    "(from Learn Enough Developer Tools to Be Dangerous By Michael Hartl)"
   ]
  },
  {
   "cell_type": "code",
   "execution_count": 29,
   "id": "8bd928b2-16db-49f6-921f-51e59f609478",
   "metadata": {},
   "outputs": [
    {
     "name": "stdout",
     "output_type": "stream",
     "text": [
      " \u001b[31mM\u001b[m index.html\n",
      "On branch main\n",
      "Changes not staged for commit:\n",
      "  (use \"git add <file>...\" to update what will be committed)\n",
      "  (use \"git restore <file>...\" to discard changes in working directory)\n",
      "\t\u001b[31mmodified:   index.html\u001b[m\n",
      "\n",
      "no changes added to commit (use \"git add\" and/or \"git commit -a\")\n"
     ]
    }
   ],
   "source": [
    "!git status --short;"
   ]
  },
  {
   "cell_type": "code",
   "execution_count": 30,
   "id": "a14cd1da-e492-45a4-8542-bb0b08fa5301",
   "metadata": {},
   "outputs": [
    {
     "name": "stdout",
     "output_type": "stream",
     "text": [
      "[main c4a1a5b] updated index.html with a newline\n",
      " 1 file changed, 2 insertions(+)\n"
     ]
    }
   ],
   "source": [
    "!git commit -a -m \"updated index.html with a newline\""
   ]
  },
  {
   "cell_type": "code",
   "execution_count": 31,
   "id": "9291a30a-8a68-4018-b7de-d00952977c86",
   "metadata": {},
   "outputs": [
    {
     "name": "stdout",
     "output_type": "stream",
     "text": [
      "\u001b[33mcommit c4a1a5b00052a41f34e59e5aee25580b1fb76b5d\u001b[m\u001b[33m (\u001b[m\u001b[1;36mHEAD -> \u001b[m\u001b[1;32mmain\u001b[m\u001b[33m)\u001b[m\n",
      "Author: damani <damani@cse.iitb.ac.in>\n",
      "Date:   Wed Oct 9 14:39:45 2024 +0530\n",
      "\n",
      "    updated index.html with a newline\n",
      "\n",
      "\u001b[33mcommit 3090fe2292ba128f10b0f7a724d5279e148193da\u001b[m\n",
      "Author: damani <damani@cse.iitb.ac.in>\n",
      "Date:   Wed Oct 9 14:32:37 2024 +0530\n",
      "\n",
      "    1st release\n"
     ]
    }
   ],
   "source": [
    "!git log"
   ]
  },
  {
   "cell_type": "raw",
   "id": "f91836dd-33ee-43c7-ac7f-ce66ceea8902",
   "metadata": {},
   "source": [
    "*How do I go back to an earlier version of the file?*\n",
    "*What happens when I go back to an earlier version of the file*"
   ]
  },
  {
   "cell_type": "code",
   "execution_count": 32,
   "id": "dd324b80-dfdf-465c-9d26-3a571b04c379",
   "metadata": {},
   "outputs": [
    {
     "name": "stdout",
     "output_type": "stream",
     "text": [
      "usage: git [-v | --version] [-h | --help] [-C <path>] [-c <name>=<value>]\n",
      "           [--exec-path[=<path>]] [--html-path] [--man-path] [--info-path]\n",
      "           [-p | --paginate | -P | --no-pager] [--no-replace-objects] [--bare]\n",
      "           [--git-dir=<path>] [--work-tree=<path>] [--namespace=<name>]\n",
      "           [--super-prefix=<path>] [--config-env=<name>=<envvar>]\n",
      "           <command> [<args>]\n",
      "\n",
      "These are common Git commands used in various situations:\n",
      "\n",
      "start a working area (see also: git help tutorial)\n",
      "   clone     Clone a repository into a new directory\n",
      "   init      Create an empty Git repository or reinitialize an existing one\n",
      "\n",
      "work on the current change (see also: git help everyday)\n",
      "   add       Add file contents to the index\n",
      "   mv        Move or rename a file, a directory, or a symlink\n",
      "   restore   Restore working tree files\n",
      "   rm        Remove files from the working tree and from the index\n",
      "\n",
      "examine the history and state (see also: git help revisions)\n",
      "   bisect    Use binary search to find the commit that introduced a bug\n",
      "   diff      Show changes between commits, commit and working tree, etc\n",
      "   grep      Print lines matching a pattern\n",
      "   log       Show commit logs\n",
      "   show      Show various types of objects\n",
      "   status    Show the working tree status\n",
      "\n",
      "grow, mark and tweak your common history\n",
      "   branch    List, create, or delete branches\n",
      "   commit    Record changes to the repository\n",
      "   merge     Join two or more development histories together\n",
      "   rebase    Reapply commits on top of another base tip\n",
      "   reset     Reset current HEAD to the specified state\n",
      "   switch    Switch branches\n",
      "   tag       Create, list, delete or verify a tag object signed with GPG\n",
      "\n",
      "collaborate (see also: git help workflows)\n",
      "   fetch     Download objects and refs from another repository\n",
      "   pull      Fetch from and integrate with another repository or a local branch\n",
      "   push      Update remote refs along with associated objects\n",
      "\n",
      "'git help -a' and 'git help -g' list available subcommands and some\n",
      "concept guides. See 'git help <command>' or 'git help <concept>'\n",
      "to read about a specific subcommand or concept.\n",
      "See 'git help git' for an overview of the system.\n"
     ]
    }
   ],
   "source": [
    "!git help"
   ]
  },
  {
   "cell_type": "code",
   "execution_count": null,
   "id": "e090f46f-bfba-45ee-ad7b-8a42c6fc2cd7",
   "metadata": {},
   "outputs": [],
   "source": [
    "!git help checkout"
   ]
  },
  {
   "cell_type": "code",
   "execution_count": null,
   "id": "fdf23e5a-9acc-45e1-99d7-1672b83bbda3",
   "metadata": {},
   "outputs": [],
   "source": [
    "If it sounds complicated, just use the following"
   ]
  },
  {
   "cell_type": "code",
   "execution_count": 35,
   "id": "c5fa32c1-ea93-42e6-ad6c-782d708f43f9",
   "metadata": {},
   "outputs": [
    {
     "name": "stdout",
     "output_type": "stream",
     "text": [
      "\u001b[33mcommit c4a1a5b00052a41f34e59e5aee25580b1fb76b5d\u001b[m\u001b[33m (\u001b[m\u001b[1;36mHEAD -> \u001b[m\u001b[1;32mmain\u001b[m\u001b[33m)\u001b[m\n",
      "Author: damani <damani@cse.iitb.ac.in>\n",
      "Date:   Wed Oct 9 14:39:45 2024 +0530\n",
      "\n",
      "    updated index.html with a newline\n",
      "\n",
      "\u001b[33mcommit 3090fe2292ba128f10b0f7a724d5279e148193da\u001b[m\n",
      "Author: damani <damani@cse.iitb.ac.in>\n",
      "Date:   Wed Oct 9 14:32:37 2024 +0530\n",
      "\n",
      "    1st release\n"
     ]
    }
   ],
   "source": [
    "!git log"
   ]
  },
  {
   "cell_type": "code",
   "execution_count": null,
   "id": "51d1bb4a-d904-4fc1-ac82-fa1aea050fe8",
   "metadata": {},
   "outputs": [],
   "source": [
    "!git checkout 3090fe2292ba128f10b0f7a724d5279e148193da index.html"
   ]
  },
  {
   "cell_type": "code",
   "execution_count": null,
   "id": "793c39f4-7f01-45f6-bee5-e008e161c2cc",
   "metadata": {},
   "outputs": [],
   "source": [
    "!cat index.html"
   ]
  },
  {
   "cell_type": "code",
   "execution_count": null,
   "id": "48e7a70f-a8d6-45f1-a60a-8ccbae5289ec",
   "metadata": {},
   "outputs": [],
   "source": [
    "Ooops may you just wanted to see the earlier commit"
   ]
  },
  {
   "cell_type": "code",
   "execution_count": null,
   "id": "79b22584-2cf0-45d6-9912-4b82f08b8220",
   "metadata": {},
   "outputs": [],
   "source": [
    "We were already on main branch. We had just checked out a file.\n",
    "If we do this with many files, we will be confused.\n",
    "Just 'see' the earlier files rather than checking them out:\n",
    "git show <somehash>:path/to/file > new_filename.ext"
   ]
  },
  {
   "cell_type": "code",
   "execution_count": 36,
   "id": "1a978bf3-0a1f-4d14-a297-7489c152414c",
   "metadata": {},
   "outputs": [
    {
     "name": "stdout",
     "output_type": "stream",
     "text": [
      "abc\n",
      "<<<<<<< HEAD\n",
      "def\n",
      "editing inddex on 'images' branch\n",
      "def\n",
      "=======\n",
      "editing inddex on 'images' branch\n",
      ">>>>>>> images\n"
     ]
    }
   ],
   "source": [
    "!git show 3090fe2:index.html"
   ]
  },
  {
   "cell_type": "code",
   "execution_count": null,
   "id": "839e9b7f-8340-4cb7-aa41-1e43c9f9baec",
   "metadata": {},
   "outputs": [],
   "source": [
    "there should be a better way to refer to versions"
   ]
  },
  {
   "cell_type": "code",
   "execution_count": null,
   "id": "38f6e9be-5128-4836-9448-143e1c08d430",
   "metadata": {},
   "outputs": [],
   "source": [
    "!git help tag"
   ]
  },
  {
   "cell_type": "code",
   "execution_count": 37,
   "id": "ace701f0-55e7-4904-822e-63b85d1ae495",
   "metadata": {},
   "outputs": [],
   "source": [
    "!git tag v0 3090fe2292ba128f10b0f7a724d5279e148193da"
   ]
  },
  {
   "cell_type": "code",
   "execution_count": null,
   "id": "9bc5a33f-a770-439c-b023-f76923ca2856",
   "metadata": {},
   "outputs": [],
   "source": [
    "!git checkout v0"
   ]
  },
  {
   "cell_type": "code",
   "execution_count": 39,
   "id": "fbe1d1fb-3d05-4372-8e6b-3c3a3263673e",
   "metadata": {},
   "outputs": [
    {
     "name": "stdout",
     "output_type": "stream",
     "text": [
      "\u001b[33mcommit c4a1a5b00052a41f34e59e5aee25580b1fb76b5d\u001b[m\u001b[33m (\u001b[m\u001b[1;36mHEAD -> \u001b[m\u001b[1;32mmain\u001b[m\u001b[33m)\u001b[m\n",
      "Author: damani <damani@cse.iitb.ac.in>\n",
      "Date:   Wed Oct 9 14:39:45 2024 +0530\n",
      "\n",
      "    updated index.html with a newline\n",
      "\n",
      "\u001b[33mcommit 3090fe2292ba128f10b0f7a724d5279e148193da\u001b[m\u001b[33m (\u001b[m\u001b[1;33mtag: v0\u001b[m\u001b[33m)\u001b[m\n",
      "Author: damani <damani@cse.iitb.ac.in>\n",
      "Date:   Wed Oct 9 14:32:37 2024 +0530\n",
      "\n",
      "    1st release\n",
      "On branch main\n",
      "nothing to commit, working tree clean\n"
     ]
    }
   ],
   "source": [
    "!git log; git status\n"
   ]
  },
  {
   "cell_type": "code",
   "execution_count": null,
   "id": "883e5654-aa9f-4474-90ca-134edd3bb041",
   "metadata": {},
   "outputs": [],
   "source": [
    "!git checkout ed9ebbac3be0dce074235399839026863315788a"
   ]
  },
  {
   "cell_type": "code",
   "execution_count": null,
   "id": "0a90566e-fe88-44f6-8900-be8ccaf116ce",
   "metadata": {},
   "outputs": [],
   "source": [
    "!git log"
   ]
  },
  {
   "cell_type": "raw",
   "id": "cf46ddfa-fa63-48fa-b73e-8f4c21c5f855",
   "metadata": {},
   "source": [
    "If it's all getting confusing, remember we are doing few simple operations:"
   ]
  },
  {
   "cell_type": "code",
   "execution_count": null,
   "id": "5ae98bfe-917b-41f4-8669-c9715c2a0239",
   "metadata": {},
   "outputs": [],
   "source": [
    "git status\n",
    "git add --all\n",
    "git commit\n",
    "git log\n",
    "git show\n",
    "git checkout"
   ]
  },
  {
   "cell_type": "raw",
   "id": "926105b8-795d-42d0-ac07-c14ed6d98699",
   "metadata": {},
   "source": [
    "Power of git comes from branching and merging. Before starting on it, let's know the status of our current environment"
   ]
  },
  {
   "cell_type": "code",
   "execution_count": null,
   "id": "92c0ec71-2e4d-4886-a05e-567a80a25f8f",
   "metadata": {},
   "outputs": [],
   "source": [
    "!git log"
   ]
  },
  {
   "cell_type": "code",
   "execution_count": 40,
   "id": "5aa7b367-1a06-41c1-a8ed-b8d5bd7070e9",
   "metadata": {},
   "outputs": [],
   "source": [
    "#let's create a branch\n",
    "!git branch images"
   ]
  },
  {
   "cell_type": "code",
   "execution_count": 41,
   "id": "25631647-0331-49c4-bc5a-ce8586614f34",
   "metadata": {},
   "outputs": [
    {
     "name": "stdout",
     "output_type": "stream",
     "text": [
      "  images\u001b[m\n",
      "* \u001b[32mmain\u001b[m\n"
     ]
    }
   ],
   "source": [
    "#was branch creation successful?\n",
    "!git branch"
   ]
  },
  {
   "cell_type": "code",
   "execution_count": null,
   "id": "3b4dd7c6-5956-4eb6-b3f0-112a6cdc61cc",
   "metadata": {},
   "outputs": [],
   "source": [
    "!git branch"
   ]
  },
  {
   "cell_type": "code",
   "execution_count": null,
   "id": "51ed1362-41a0-4a4d-8824-15a2492602c0",
   "metadata": {},
   "outputs": [],
   "source": [
    "!ls"
   ]
  },
  {
   "cell_type": "code",
   "execution_count": 42,
   "id": "3820eb8e-a7a5-4dd5-8e29-ccd46d4f0813",
   "metadata": {},
   "outputs": [
    {
     "name": "stdout",
     "output_type": "stream",
     "text": [
      "Switched to branch 'images'\n"
     ]
    }
   ],
   "source": [
    "!git checkout images"
   ]
  },
  {
   "cell_type": "code",
   "execution_count": null,
   "id": "2e03211c-2734-46ba-8efa-a7506b150821",
   "metadata": {},
   "outputs": [],
   "source": [
    "!ls"
   ]
  },
  {
   "cell_type": "code",
   "execution_count": 43,
   "id": "b6ad7ecf-7c7f-4a98-b3b4-af08446eec11",
   "metadata": {},
   "outputs": [
    {
     "name": "stdout",
     "output_type": "stream",
     "text": [
      "  % Total    % Received % Xferd  Average Speed   Time    Time     Time  Current\n",
      "                                 Dload  Upload   Total   Spent    Left  Speed\n",
      "100  109k  100  109k    0     0  1674k      0 --:--:-- --:--:-- --:--:-- 1685k\n"
     ]
    }
   ],
   "source": [
    "!curl -O https://www.cse.iitb.ac.in/~damani/images/OmNov18.jpg"
   ]
  },
  {
   "cell_type": "code",
   "execution_count": null,
   "id": "9b71de71-d8e7-4d05-9256-63426327a445",
   "metadata": {},
   "outputs": [],
   "source": [
    "!git status"
   ]
  },
  {
   "cell_type": "code",
   "execution_count": 44,
   "id": "b07ca216-4b63-4444-a6ae-5a9fdb6ace4b",
   "metadata": {},
   "outputs": [],
   "source": [
    "!git add OmNov18.jpg"
   ]
  },
  {
   "cell_type": "code",
   "execution_count": 45,
   "id": "b1fc6f5f-2a0f-45bb-913e-3d8edf65b7b6",
   "metadata": {},
   "outputs": [
    {
     "name": "stdout",
     "output_type": "stream",
     "text": [
      "[images 8171f15] added image\n",
      " 1 file changed, 0 insertions(+), 0 deletions(-)\n",
      " create mode 100644 OmNov18.jpg\n"
     ]
    }
   ],
   "source": [
    "!git commit -m \"added image\""
   ]
  },
  {
   "cell_type": "code",
   "execution_count": null,
   "id": "c721d481-3e32-4a1a-96ba-c3a53e4cc651",
   "metadata": {},
   "outputs": [],
   "source": [
    "#edit index.html\n",
    "!echo \"editing inddex on 'images' branch\" >> index.html"
   ]
  },
  {
   "cell_type": "code",
   "execution_count": 46,
   "id": "08e304ce-fcd5-4ec6-b281-506039de417c",
   "metadata": {},
   "outputs": [],
   "source": [
    "!git add index.html; echo \"xgs\" >> index.html"
   ]
  },
  {
   "cell_type": "code",
   "execution_count": null,
   "id": "d86fa68c-4be9-4add-b321-e4602066d50a",
   "metadata": {},
   "outputs": [],
   "source": [
    "!git commit -m \"another merge check line added to index\""
   ]
  },
  {
   "cell_type": "code",
   "execution_count": 47,
   "id": "245325ff-83d4-4304-b05a-0f1067d51894",
   "metadata": {},
   "outputs": [
    {
     "name": "stdout",
     "output_type": "stream",
     "text": [
      "M\tindex.html\n",
      "Switched to branch 'main'\n"
     ]
    }
   ],
   "source": [
    "!git checkout main"
   ]
  },
  {
   "cell_type": "code",
   "execution_count": 48,
   "id": "9422d9ec-0ae4-4537-94e8-2ea2aa2cd818",
   "metadata": {},
   "outputs": [
    {
     "name": "stdout",
     "output_type": "stream",
     "text": [
      "abc\n",
      "<<<<<<< HEAD\n",
      "def\n",
      "editing inddex on 'images' branch\n",
      "def\n",
      "=======\n",
      "editing inddex on 'images' branch\n",
      ">>>>>>> images\n",
      "abc\n",
      "abc\n",
      "xgs\n"
     ]
    }
   ],
   "source": [
    "!cat index.html"
   ]
  },
  {
   "cell_type": "code",
   "execution_count": null,
   "id": "c025fc83-0c8b-4952-89d2-14057bde4ec8",
   "metadata": {},
   "outputs": [],
   "source": [
    "!echo \"def\" >> index.html"
   ]
  },
  {
   "cell_type": "code",
   "execution_count": null,
   "id": "522b9bcd-6b3e-4c62-af69-9511c1771e3b",
   "metadata": {},
   "outputs": [],
   "source": [
    "!git add index.html"
   ]
  },
  {
   "cell_type": "code",
   "execution_count": null,
   "id": "4dbbb723-a2fe-44f9-b284-7ca08dd406a7",
   "metadata": {},
   "outputs": [],
   "source": [
    "!git commit index.html -m \"introducing merge conflict on main branch\""
   ]
  },
  {
   "cell_type": "code",
   "execution_count": null,
   "id": "bb23be14-70e5-4e39-82fc-d6283c4224a9",
   "metadata": {},
   "outputs": [],
   "source": [
    "#now try merging the images branch\n",
    "!git merge images"
   ]
  },
  {
   "cell_type": "code",
   "execution_count": null,
   "id": "5ae4ee31-dcff-438b-b269-acca9cab1cd4",
   "metadata": {},
   "outputs": [],
   "source": []
  }
 ],
 "metadata": {
  "kernelspec": {
   "display_name": "Python 3 (ipykernel)",
   "language": "python",
   "name": "python3"
  },
  "language_info": {
   "codemirror_mode": {
    "name": "ipython",
    "version": 3
   },
   "file_extension": ".py",
   "mimetype": "text/x-python",
   "name": "python",
   "nbconvert_exporter": "python",
   "pygments_lexer": "ipython3",
   "version": "3.10.2"
  }
 },
 "nbformat": 4,
 "nbformat_minor": 5
}
